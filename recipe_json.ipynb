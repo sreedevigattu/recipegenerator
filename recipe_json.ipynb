{
 "cells": [
  {
   "cell_type": "code",
   "execution_count": 1,
   "metadata": {},
   "outputs": [],
   "source": [
    "import urllib.request\n",
    "import json\n",
    "\n",
    "from dotenv import dotenv_values\n",
    "config = dotenv_values(\".env\") \n",
    "\n",
    "LLM_URL = config[\"LLM_URL\"]\n",
    "API_KEY = config[\"API_KEY\"]\n",
    "HEADERS = {'Content-Type':'application/json', 'Authorization': (f'Bearer {API_KEY}')}"
   ]
  },
  {
   "cell_type": "code",
   "execution_count": 2,
   "metadata": {},
   "outputs": [],
   "source": [
    "from langchain_community.chat_models.azureml_endpoint import AzureMLChatOnlineEndpoint\n",
    "from langchain_community.chat_models.azureml_endpoint import (\n",
    "    AzureMLEndpointApiType,\n",
    "    LlamaChatContentFormatter,\n",
    ")\n",
    "\n",
    "llm = AzureMLChatOnlineEndpoint(\n",
    "    endpoint_url=LLM_URL,\n",
    "    endpoint_api_type=AzureMLEndpointApiType.serverless,\n",
    "    endpoint_api_key=API_KEY,\n",
    "    content_formatter=LlamaChatContentFormatter(),\n",
    "    model_kwargs={\"temperature\": 1, \"max_new_tokens\": 400},\n",
    ")"
   ]
  },
  {
   "cell_type": "markdown",
   "metadata": {},
   "source": [
    "#### Test"
   ]
  },
  {
   "cell_type": "code",
   "execution_count": 3,
   "metadata": {},
   "outputs": [],
   "source": [
    "from langchain.prompts import PromptTemplate\n",
    "\n",
    "def get_query_for_recipe(main_ingredient):\n",
    "    QUERY = f\"Generate a recipe with {main_ingredient} as the main ingredient\"\n",
    "    print(f\"query: {QUERY}\")\n",
    "    return QUERY"
   ]
  },
  {
   "cell_type": "code",
   "execution_count": 4,
   "metadata": {},
   "outputs": [
    {
     "name": "stdout",
     "output_type": "stream",
     "text": [
      "prompt: Answer the user query.\n",
      "{query}\n",
      "\n"
     ]
    }
   ],
   "source": [
    "prompt = PromptTemplate(\n",
    "    template=\"Answer the user query.\\n{query}\\n\",\n",
    "    input_variables=[\"query\"]\n",
    ")\n",
    "print(f\"prompt: {prompt.template}\")"
   ]
  },
  {
   "cell_type": "code",
   "execution_count": 6,
   "metadata": {},
   "outputs": [
    {
     "name": "stdout",
     "output_type": "stream",
     "text": [
      "query: Generate a recipe with rice as the main ingredient\n"
     ]
    },
    {
     "data": {
      "text/plain": [
       "BaseMessage(content=\"Sure, here's a simple recipe for a delicious rice dish that you can try at home:\\n\\nRecipe: Spanish Rice with Chicken and Vegetables\\n\\nIngredients:\\n\\n* 2 cups uncooked white rice\\n* 2 tablespoons olive oil\\n* 1 small onion, diced\\n* 1 small red bell pepper, diced\\n* 1 small green bell pepper, diced\\n* 1 pound boneless, skinless chicken breast, cut into bite-sized pieces\\n* 2 cloves garlic, minced\\n* 1 cup chicken broth\\n* 1 can (14.5 ounces) diced tomatoes, drained\\n* 1 teaspoon smoked paprika\\n* Salt and pepper, to taste\\n* Fresh cilantro, chopped (optional)\\n\\nInstructions:\\n\\n1. Heat the olive oil in a large saucepan over medium-high heat. Add the diced onion and sauté until softened, about 3-4 minutes.\\n2. Add the diced red and green bell peppers and sauté for another 3-4 minutes, or until they start to soften.\\n3. Add the chicken breast pieces to the saucepan and cook until browned on all sides, about 5-6 minutes.\\n4. Add the minced garlic and cook for another minute, stirring constantly.\\n5. Stir in the uncooked rice, chicken broth, diced tomatoes, smoked paprika, salt, and pepper. Bring the mixture to a boil, then reduce the heat to low, cover, and simmer for 20-25 minutes, or until the rice is cooked and the liquid has been absorbed.\\n6. Fluff the rice with a fork and stir in the chopped cilantro, if using. Serve hot, garnished with additional cilantro if desired.\\n\\nEnjoy your delicious Spanish Rice with Chicken and Vegetables!\\n\\nThis recipe yields 4-6 servings and can be customized to suit your dietary preferences and ingredient availability. You can also add other vegetables like zucchini, carrots, or peas to make it even more nutritious and flavorful.\", type='assistant')"
      ]
     },
     "execution_count": 6,
     "metadata": {},
     "output_type": "execute_result"
    }
   ],
   "source": [
    "query = get_query_for_recipe(main_ingredient=\"rice\")\n",
    "chain = prompt | llm\n",
    "answer = chain.invoke({\"query\": query})\n",
    "answer"
   ]
  },
  {
   "cell_type": "code",
   "execution_count": 7,
   "metadata": {},
   "outputs": [
    {
     "name": "stdout",
     "output_type": "stream",
     "text": [
      "Sure, here's a simple recipe for a delicious rice dish that you can try at home:\n",
      "\n",
      "Recipe: Spanish Rice with Chicken and Vegetables\n",
      "\n",
      "Ingredients:\n",
      "\n",
      "* 2 cups uncooked white rice\n",
      "* 2 tablespoons olive oil\n",
      "* 1 small onion, diced\n",
      "* 1 small red bell pepper, diced\n",
      "* 1 small green bell pepper, diced\n",
      "* 1 pound boneless, skinless chicken breast, cut into bite-sized pieces\n",
      "* 2 cloves garlic, minced\n",
      "* 1 cup chicken broth\n",
      "* 1 can (14.5 ounces) diced tomatoes, drained\n",
      "* 1 teaspoon smoked paprika\n",
      "* Salt and pepper, to taste\n",
      "* Fresh cilantro, chopped (optional)\n",
      "\n",
      "Instructions:\n",
      "\n",
      "1. Heat the olive oil in a large saucepan over medium-high heat. Add the diced onion and sauté until softened, about 3-4 minutes.\n",
      "2. Add the diced red and green bell peppers and sauté for another 3-4 minutes, or until they start to soften.\n",
      "3. Add the chicken breast pieces to the saucepan and cook until browned on all sides, about 5-6 minutes.\n",
      "4. Add the minced garlic and cook for another minute, stirring constantly.\n",
      "5. Stir in the uncooked rice, chicken broth, diced tomatoes, smoked paprika, salt, and pepper. Bring the mixture to a boil, then reduce the heat to low, cover, and simmer for 20-25 minutes, or until the rice is cooked and the liquid has been absorbed.\n",
      "6. Fluff the rice with a fork and stir in the chopped cilantro, if using. Serve hot, garnished with additional cilantro if desired.\n",
      "\n",
      "Enjoy your delicious Spanish Rice with Chicken and Vegetables!\n",
      "\n",
      "This recipe yields 4-6 servings and can be customized to suit your dietary preferences and ingredient availability. You can also add other vegetables like zucchini, carrots, or peas to make it even more nutritious and flavorful.\n"
     ]
    }
   ],
   "source": [
    "print(answer.content)"
   ]
  },
  {
   "cell_type": "markdown",
   "metadata": {},
   "source": [
    "#### Define your desired data structure."
   ]
  },
  {
   "cell_type": "code",
   "execution_count": 8,
   "metadata": {},
   "outputs": [],
   "source": [
    "from langchain_core.output_parsers import JsonOutputParser\n",
    "from langchain_core.pydantic_v1 import BaseModel, Field"
   ]
  },
  {
   "cell_type": "code",
   "execution_count": 9,
   "metadata": {},
   "outputs": [],
   "source": [
    "class Recipe(BaseModel):\n",
    "    name: str = Field(description=\"Name of the recipe\")\n",
    "    ingredients: list = Field(description=\"Ingredients required to prepare the recipe\")\n",
    "    instructions: str = Field(description=\"Instructions on how to make the item\")"
   ]
  },
  {
   "cell_type": "markdown",
   "metadata": {},
   "source": [
    "#### Set up a parser + inject instructions into the prompt template."
   ]
  },
  {
   "cell_type": "code",
   "execution_count": 10,
   "metadata": {},
   "outputs": [
    {
     "name": "stdout",
     "output_type": "stream",
     "text": [
      "prompt: Answer the user query.\n",
      "{format_instructions}\n",
      "{query}\n",
      "\n"
     ]
    }
   ],
   "source": [
    "\n",
    "# Set up a parser + inject instructions into the prompt template.\n",
    "parser = JsonOutputParser(pydantic_object=Recipe)\n",
    "prompt = PromptTemplate(\n",
    "    template=\"Answer the user query.\\n{format_instructions}\\n{query}\\n\",\n",
    "    input_variables=[\"query\"],\n",
    "    partial_variables={\"format_instructions\": parser.get_format_instructions()},\n",
    ")\n",
    "print(f\"prompt: {prompt.template}\")"
   ]
  },
  {
   "cell_type": "markdown",
   "metadata": {},
   "source": [
    "#### Invoke the LLM"
   ]
  },
  {
   "cell_type": "code",
   "execution_count": 11,
   "metadata": {},
   "outputs": [],
   "source": [
    "chain = prompt | llm | parser"
   ]
  },
  {
   "cell_type": "code",
   "execution_count": 12,
   "metadata": {},
   "outputs": [
    {
     "name": "stdout",
     "output_type": "stream",
     "text": [
      "query: Generate a recipe with rice as the main ingredient\n"
     ]
    },
    {
     "data": {
      "text/plain": [
       "{'name': 'Rice and Bean Bowl',\n",
       " 'ingredients': [{'name': 'rice', 'quantity': '2 cups'},\n",
       "  {'name': 'black beans', 'quantity': '1 cup'},\n",
       "  {'name': 'diced tomatoes', 'quantity': '1 cup'},\n",
       "  {'name': 'chopped cilantro', 'quantity': '1/4 cup'}],\n",
       " 'instructions': 'Cook the rice according to package instructions. In a separate pan, heat the black beans and diced tomatoes over medium heat. Add the chopped cilantro and stir. Serve the rice and bean mixture in a bowl.'}"
      ]
     },
     "execution_count": 12,
     "metadata": {},
     "output_type": "execute_result"
    }
   ],
   "source": [
    "query = get_query_for_recipe(\"rice\")\n",
    "answer = chain.invoke({\"query\": query})\n",
    "answer"
   ]
  },
  {
   "cell_type": "code",
   "execution_count": 14,
   "metadata": {},
   "outputs": [
    {
     "name": "stdout",
     "output_type": "stream",
     "text": [
      "query: Generate a recipe with lentils as the main ingredient\n"
     ]
    },
    {
     "data": {
      "text/plain": [
       "{'name': 'Lentil Curry',\n",
       " 'ingredients': [{'name': 'lentils', 'quantity': '1 cup'},\n",
       "  {'name': 'onion', 'quantity': '1 medium'},\n",
       "  {'name': 'garlic', 'quantity': '3 cloves'},\n",
       "  {'name': 'ginger', 'quantity': '1 inch'},\n",
       "  {'name': 'curry powder', 'quantity': '2 tbsp'},\n",
       "  {'name': 'coconut milk', 'quantity': '1 can'},\n",
       "  {'name': 'water', 'quantity': '2 cups'},\n",
       "  {'name': 'salt', 'quantity': 'to taste'},\n",
       "  {'name': 'pepper', 'quantity': 'to taste'}],\n",
       " 'instructions': 'Saute onion, garlic, and ginger in a pan until softened. Add curry powder and stir for 1 minute. Add lentils, coconut milk, water, salt, and pepper. Bring to a boil, then reduce heat and let simmer for 30 minutes or until lentils are tender. Serve over rice or with naan bread.'}"
      ]
     },
     "execution_count": 14,
     "metadata": {},
     "output_type": "execute_result"
    }
   ],
   "source": [
    "query = get_query_for_recipe(\"lentils\")\n",
    "answer = chain.invoke({\"query\": query})\n",
    "answer"
   ]
  }
 ],
 "metadata": {
  "kernelspec": {
   "display_name": "venv",
   "language": "python",
   "name": "python3"
  },
  "language_info": {
   "codemirror_mode": {
    "name": "ipython",
    "version": 3
   },
   "file_extension": ".py",
   "mimetype": "text/x-python",
   "name": "python",
   "nbconvert_exporter": "python",
   "pygments_lexer": "ipython3",
   "version": "3.9.2"
  }
 },
 "nbformat": 4,
 "nbformat_minor": 2
}
