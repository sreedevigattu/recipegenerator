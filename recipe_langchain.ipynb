{
 "cells": [
  {
   "cell_type": "markdown",
   "metadata": {},
   "source": [
    "## Usage of frameworks\n",
    "\n"
   ]
  },
  {
   "cell_type": "markdown",
   "metadata": {},
   "source": [
    "Among the frameworks available for building LLM Applications, LangChain is one of the popular options. Since it's first release in October 2022 till now, it has seen around 44M downloads. Let's see why it has such high adoption rate.\n",
    "\n",
    "LangChain provides a number of features that make it easy to develop LLM applications. Following are a few \n",
    "- A generic interface for all LLMs, which makes it easy to switch between different LLMs.\n",
    "- A prompt management system that helps developers create and manage prompts for LLMs.\n",
    "- A number of common utilities for working with LLMs, such as text summarization and question answering.\n",
    "\n",
    "In this article, we'll see how the generic interface makes it easier to switch between different LLMs\n",
    "\n",
    "Let us consider a simple use case to demonstrate this. In this use-case, we will generate a recipe with 1 ingredient (input from the user) as the main ingredient.\n",
    "\n",
    "For this demonstration, we will use 2 LLMs - Llama-2-70b-chat model hosted on Azure Cloud and a model from HuggingFace Hub for inference. The Llama-2-70b-chat model is deployed in serverless mode on Azure cloud."
   ]
  },
  {
   "cell_type": "markdown",
   "metadata": {},
   "source": [
    "### Initialise"
   ]
  },
  {
   "cell_type": "markdown",
   "metadata": {},
   "source": [
    "Load the environment variables\n",
    "- URL of the LLM deployed on Azure and the corresponding API Key\n",
    "- LLM model from the Hugging Face Hub"
   ]
  },
  {
   "cell_type": "code",
   "execution_count": 1,
   "metadata": {},
   "outputs": [],
   "source": [
    "from dotenv import dotenv_values\n",
    "from dotenv import load_dotenv, find_dotenv\n",
    "\n",
    "load_dotenv(find_dotenv())\n",
    "config = dotenv_values(\".env\") \n",
    "\n",
    "AZURE_LLM_URL = config[\"AZURE_LLM_URL\"]\n",
    "AZURE_API_KEY = config[\"AZURE_API_KEY\"]\n",
    "\n",
    "HUGGINGFACEHUB_API_TOKEN = config[\"HUGGINGFACEHUB_API_TOKEN\"]\n",
    "HUGGINGFACEHUB_LLM = \"huggingfaceh4/zephyr-7b-alpha\"\n",
    "\n",
    "TEMPERATURE = 0.8\n",
    "MAX_TOKENS = 400"
   ]
  },
  {
   "cell_type": "markdown",
   "metadata": {},
   "source": [
    "Defining a function to return a query for generating  a recipe with the given item as the main ingredient. "
   ]
  },
  {
   "cell_type": "code",
   "execution_count": 2,
   "metadata": {},
   "outputs": [],
   "source": [
    "def get_query_for_recipe(main_ingredient):\n",
    "    QUERY = f\"Generate a recipe with {main_ingredient} as the main ingredient\"\n",
    "    print(f\"Query: {QUERY}\")\n",
    "    return QUERY"
   ]
  },
  {
   "cell_type": "markdown",
   "metadata": {},
   "source": [
    "### Invoke LLM without using LangChain"
   ]
  },
  {
   "cell_type": "markdown",
   "metadata": {},
   "source": [
    "#### Use a LLM Hosted on Azure \n",
    "\n",
    "Send a HTTP request with the query in a specific format to the LLM hosted on Azure cloud. And extract the response."
   ]
  },
  {
   "cell_type": "code",
   "execution_count": 3,
   "metadata": {},
   "outputs": [],
   "source": [
    "import urllib.request\n",
    "import json\n",
    "\n",
    "HEADERS = {'Content-Type':'application/json', 'Authorization': (f'Bearer {AZURE_API_KEY}')}\n",
    "\n",
    "def askLLM(data):\n",
    "    body = str.encode(json.dumps(data))\n",
    "    req = urllib.request.Request(AZURE_LLM_URL, body, HEADERS)\n",
    "    result = \"\"\n",
    "\n",
    "    try:\n",
    "        response = urllib.request.urlopen(req)\n",
    "\n",
    "        result = response.read().decode(\"utf8\", 'ignore')\n",
    "        print(\"LLM - Inference:\", result)\n",
    "        result = json.loads(result)\n",
    "        result = result['choices'][0]['message']['content']\n",
    "    except urllib.error.HTTPError as error:\n",
    "        print(\"The request failed with status code: \" + str(error.code))\n",
    "        print(error.info())\n",
    "        print(error.read().decode(\"utf8\", 'ignore'))\n",
    "        \n",
    "    return result"
   ]
  },
  {
   "cell_type": "code",
   "execution_count": 4,
   "metadata": {},
   "outputs": [
    {
     "name": "stdout",
     "output_type": "stream",
     "text": [
      "Query: Generate a recipe with rice as the main ingredient\n",
      "LLM - Inference: {\"choices\":[{\"finish_reason\":\"length\",\"index\":0,\"message\":{\"content\":\"  Sure! Here's a simple recipe for a delicious rice dish that's perfect for a weeknight dinner:\\n\\nSpicy Shrimp and Rice Bowl\\n\\nIngredients:\\n\\n* 1 cup uncooked white or brown rice\\n* 2 cups water\\n* 1 tablespoon olive oil\\n* 1 small onion, diced\\n* 2 cloves garlic, minced\\n* 1 pound large shrimp, peeled and deveined\\n* 1 teaspoon grated ginger\\n* 1/2 teaspoon ground cumin\\n* 1/2 teaspoon smoked paprika\\n* 1/4 teaspoon cayenne pepper\\n* Salt and pepper, to taste\\n* Chopped fresh cilantro, for garnish\\n* Lime wedges, for serving\\n\\nInstructions:\\n\\n1. Start by cooking the rice according to package instructions. In a medium saucepan, bring the rice and water to a boil over high heat. Once boiling, reduce the heat to low, cover the saucepan with a tight-fitting lid, and cook for 18-20 minutes or until the water is absorbed and the rice is cooked.\\n2. While the rice is cooking, heat the olive oil in a large skillet over medium-high heat. Add the diced onion and cook until softened, about 3-4 minutes.\\n3. Add the minced garlic and cook for an additional 1-2 minutes, until fragrant.\\n4. Add the shrimp to the skillet and cook until pink and cooked through, about 4-5 minutes per side.\\n5. In a small bowl, mix together the grated ginger, cumin, smoked paprika, and cayenne pepper. Add the spice mixture to the skillet and stir to combine.\\n6. Once the shrimp are cooked, remove them from the skillet and set aside. Add a splash of water to the skillet and stir to loosen any remaining bits of food.\\n7. Fluff the cooked rice with a fork and stir in the chopped cilant\",\"role\":\"assistant\"}}],\"created\":159638,\"id\":\"f671ea71-5f72-4235-8571-303b78c37c49\",\"object\":\"chat.completion\",\"usage\":{\"completion_tokens\":500,\"prompt_tokens\":21,\"total_tokens\":521}}\n",
      "\n",
      "  Sure! Here's a simple recipe for a delicious rice dish that's perfect for a weeknight dinner:\n",
      "\n",
      "Spicy Shrimp and Rice Bowl\n",
      "\n",
      "Ingredients:\n",
      "\n",
      "* 1 cup uncooked white or brown rice\n",
      "* 2 cups water\n",
      "* 1 tablespoon olive oil\n",
      "* 1 small onion, diced\n",
      "* 2 cloves garlic, minced\n",
      "* 1 pound large shrimp, peeled and deveined\n",
      "* 1 teaspoon grated ginger\n",
      "* 1/2 teaspoon ground cumin\n",
      "* 1/2 teaspoon smoked paprika\n",
      "* 1/4 teaspoon cayenne pepper\n",
      "* Salt and pepper, to taste\n",
      "* Chopped fresh cilantro, for garnish\n",
      "* Lime wedges, for serving\n",
      "\n",
      "Instructions:\n",
      "\n",
      "1. Start by cooking the rice according to package instructions. In a medium saucepan, bring the rice and water to a boil over high heat. Once boiling, reduce the heat to low, cover the saucepan with a tight-fitting lid, and cook for 18-20 minutes or until the water is absorbed and the rice is cooked.\n",
      "2. While the rice is cooking, heat the olive oil in a large skillet over medium-high heat. Add the diced onion and cook until softened, about 3-4 minutes.\n",
      "3. Add the minced garlic and cook for an additional 1-2 minutes, until fragrant.\n",
      "4. Add the shrimp to the skillet and cook until pink and cooked through, about 4-5 minutes per side.\n",
      "5. In a small bowl, mix together the grated ginger, cumin, smoked paprika, and cayenne pepper. Add the spice mixture to the skillet and stir to combine.\n",
      "6. Once the shrimp are cooked, remove them from the skillet and set aside. Add a splash of water to the skillet and stir to loosen any remaining bits of food.\n",
      "7. Fluff the cooked rice with a fork and stir in the chopped cilant\n"
     ]
    }
   ],
   "source": [
    "data =  {\n",
    "  \"messages\": [\n",
    "    {\n",
    "      \"role\": \"user\",\n",
    "      \"content\": get_query_for_recipe(\"rice\")\n",
    "    }\n",
    "  ],\n",
    "  \"temperature\": 0.8,\n",
    "  \"max_tokens\": 500\n",
    "}\n",
    "\n",
    "answer = askLLM(data) # Taskes ~40 sec\n",
    "print(answer)"
   ]
  },
  {
   "cell_type": "code",
   "execution_count": 5,
   "metadata": {},
   "outputs": [
    {
     "name": "stdout",
     "output_type": "stream",
     "text": [
      "Query: Generate a recipe with lentils as the main ingredient\n",
      "LLM - Inference: {\"choices\":[{\"finish_reason\":\"length\",\"index\":0,\"message\":{\"content\":\"  Sure, here's a recipe for a delicious and healthy lentil dish:\\n\\nLentil and Vegetable Curry\\n\\nIngredients:\\n\\n* 1 cup brown or green lentils, rinsed and drained\\n* 2 medium onions, chopped\\n* 3 cloves garlic, minced\\n* 2 medium carrots, peeled and chopped\\n* 2 medium potatoes, peeled and chopped\\n* 1 medium zucchini, chopped\\n* 1 red bell pepper, chopped\\n* 1 can diced tomatoes\\n* 2 teaspoons curry powder\\n* 1 teaspoon ground cumin\\n* 1 teaspoon ground coriander\\n* 1/2 teaspoon turmeric\\n* 1/2 teaspoon cayenne pepper (optional)\\n* 1 can coconut milk\\n* 2 cups vegetable broth\\n* Salt and pepper, to taste\\n* Fresh cilantro, chopped (for garnish)\\n\\nInstructions:\\n\\n1. In a large pot or Dutch oven, heat 1 tablespoon of oil over medium heat.\\n2. Add the onions, garlic, carrots, potatoes, zucchini, and red bell pepper. Cook for 5-7 minutes, or until the vegetables are tender.\\n3. Add the curry powder, cumin, coriander, turmeric, and cayenne pepper (if using). Cook for 1-2 minutes, stirring constantly.\\n4. Add the lentils, diced tomatoes, coconut milk, and vegetable broth. Season with salt and pepper to taste.\\n5. Bring the mixture to a boil, then reduce the heat to low and simmer for 20-25 minutes, or until the lentils are tender and the sauce has thickened.\\n6. Serve the curry hot, garnished with fresh cilantro.\\n\\nThis recipe makes 4-6 servings and can be served with rice, naan bread, or roti. You can\",\"role\":\"assistant\"}}],\"created\":154204,\"id\":\"f9745dd1-c119-4ed2-941c-0c9056ddb663\",\"object\":\"chat.completion\",\"usage\":{\"completion_tokens\":500,\"prompt_tokens\":23,\"total_tokens\":523}}\n",
      "\n",
      "  Sure, here's a recipe for a delicious and healthy lentil dish:\n",
      "\n",
      "Lentil and Vegetable Curry\n",
      "\n",
      "Ingredients:\n",
      "\n",
      "* 1 cup brown or green lentils, rinsed and drained\n",
      "* 2 medium onions, chopped\n",
      "* 3 cloves garlic, minced\n",
      "* 2 medium carrots, peeled and chopped\n",
      "* 2 medium potatoes, peeled and chopped\n",
      "* 1 medium zucchini, chopped\n",
      "* 1 red bell pepper, chopped\n",
      "* 1 can diced tomatoes\n",
      "* 2 teaspoons curry powder\n",
      "* 1 teaspoon ground cumin\n",
      "* 1 teaspoon ground coriander\n",
      "* 1/2 teaspoon turmeric\n",
      "* 1/2 teaspoon cayenne pepper (optional)\n",
      "* 1 can coconut milk\n",
      "* 2 cups vegetable broth\n",
      "* Salt and pepper, to taste\n",
      "* Fresh cilantro, chopped (for garnish)\n",
      "\n",
      "Instructions:\n",
      "\n",
      "1. In a large pot or Dutch oven, heat 1 tablespoon of oil over medium heat.\n",
      "2. Add the onions, garlic, carrots, potatoes, zucchini, and red bell pepper. Cook for 5-7 minutes, or until the vegetables are tender.\n",
      "3. Add the curry powder, cumin, coriander, turmeric, and cayenne pepper (if using). Cook for 1-2 minutes, stirring constantly.\n",
      "4. Add the lentils, diced tomatoes, coconut milk, and vegetable broth. Season with salt and pepper to taste.\n",
      "5. Bring the mixture to a boil, then reduce the heat to low and simmer for 20-25 minutes, or until the lentils are tender and the sauce has thickened.\n",
      "6. Serve the curry hot, garnished with fresh cilantro.\n",
      "\n",
      "This recipe makes 4-6 servings and can be served with rice, naan bread, or roti. You can\n"
     ]
    }
   ],
   "source": [
    "data =  {\n",
    "  \"messages\": [\n",
    "    {\n",
    "      \"role\": \"user\",\n",
    "      \"content\": get_query_for_recipe(\"lentils\")\n",
    "    }\n",
    "  ],\n",
    "  \"temperature\": 0.8,\n",
    "  \"max_tokens\": 500\n",
    "}\n",
    "\n",
    "answer = askLLM(data) # Taskes ~40 sec\n",
    "print(answer)"
   ]
  },
  {
   "cell_type": "markdown",
   "metadata": {},
   "source": [
    "#### Use LLM from HuggingFace Hub\n",
    "\n",
    "For using the LLM hosted on HuggingFace Hub, the AutoTokenizer, AutoModelForCausalLM classes from the transformers module"
   ]
  },
  {
   "cell_type": "code",
   "execution_count": 6,
   "metadata": {},
   "outputs": [
    {
     "name": "stderr",
     "output_type": "stream",
     "text": [
      "c:\\Users\\Vibhor\\Documents\\Sree\\code\\venv\\lib\\site-packages\\tqdm\\auto.py:21: TqdmWarning: IProgress not found. Please update jupyter and ipywidgets. See https://ipywidgets.readthedocs.io/en/stable/user_install.html\n",
      "  from .autonotebook import tqdm as notebook_tqdm\n"
     ]
    }
   ],
   "source": [
    "from transformers import AutoTokenizer, AutoModelForCausalLM\n",
    "import numpy as np"
   ]
  },
  {
   "cell_type": "code",
   "execution_count": 7,
   "metadata": {},
   "outputs": [],
   "source": [
    "# Note: Using a simpler model as the other ones cannot be run locally\n",
    "HUGGINGFACEHUB_LLM = \"EleutherAI/gpt-neo-125M\""
   ]
  },
  {
   "cell_type": "code",
   "execution_count": 8,
   "metadata": {},
   "outputs": [],
   "source": [
    "tokenizer = AutoTokenizer.from_pretrained(HUGGINGFACEHUB_LLM, token=HUGGINGFACEHUB_API_TOKEN)\n",
    "# Load the model - Took ~ 1:30 min\n",
    "model = AutoModelForCausalLM.from_pretrained(HUGGINGFACEHUB_LLM, token=HUGGINGFACEHUB_API_TOKEN)"
   ]
  },
  {
   "cell_type": "code",
   "execution_count": 9,
   "metadata": {},
   "outputs": [
    {
     "name": "stderr",
     "output_type": "stream",
     "text": [
      "The attention mask and the pad token id were not set. As a consequence, you may observe unexpected behavior. Please pass your input's `attention_mask` to obtain reliable results.\n",
      "Setting `pad_token_id` to `eos_token_id`:50256 for open-end generation.\n"
     ]
    }
   ],
   "source": [
    "\n",
    "input_ids = tokenizer(\"Hi there!\", return_tensors=\"pt\").input_ids\n",
    "text = model.generate(input_ids=input_ids, max_length=100)#[[1]]"
   ]
  },
  {
   "cell_type": "code",
   "execution_count": 10,
   "metadata": {},
   "outputs": [
    {
     "name": "stdout",
     "output_type": "stream",
     "text": [
      "tensor([[17250,   612,     0,   314,  1101,   257,   649, 12590,   287,   262,\n",
      "           995,   286,  3992,  2478,   290,   314,  1101,  2111,   284,   651,\n",
      "           616,  2832,   319,   257,   649,  1628,    13,   314,  1101,  2111,\n",
      "           284,   651,   616,  2832,   319,   257,   649,  1628,   290,   314,\n",
      "          1101,  1719,   257,  1256,   286,  5876,    13,   314,  1101,  2111,\n",
      "           284,   651,   616,  2832,   319,   257,   649,  1628,   290,   314,\n",
      "          1101,  1719,   257,  1256,   286,  5876,    13,   314,  1101,  2111,\n",
      "           284,   651,   616,  2832,   319,   257,   649,  1628,   290,   314,\n",
      "          1101,  1719,   257,  1256,   286,  5876,    13,   314,  1101,  2111,\n",
      "           284,   651,   616,  2832,   319,   257,   649,  1628,   290,   314]])\n",
      "Hi there! I'm a newbie in the world of web development and I'm trying to get my hands on a new project. I'm trying to get my hands on a new project and I'm having a lot of trouble. I'm trying to get my hands on a new project and I'm having a lot of trouble. I'm trying to get my hands on a new project and I'm having a lot of trouble. I'm trying to get my hands on a new project and I\n"
     ]
    },
    {
     "data": {
      "text/plain": [
       "[None]"
      ]
     },
     "execution_count": 10,
     "metadata": {},
     "output_type": "execute_result"
    }
   ],
   "source": [
    "# Print the generated text\n",
    "print(text)\n",
    "[print(tokenizer.decode(token)) for token in text]"
   ]
  },
  {
   "cell_type": "code",
   "execution_count": 11,
   "metadata": {},
   "outputs": [
    {
     "name": "stderr",
     "output_type": "stream",
     "text": [
      "The attention mask and the pad token id were not set. As a consequence, you may observe unexpected behavior. Please pass your input's `attention_mask` to obtain reliable results.\n",
      "Setting `pad_token_id` to `eos_token_id`:50256 for open-end generation.\n"
     ]
    },
    {
     "name": "stdout",
     "output_type": "stream",
     "text": [
      "Query: Generate a recipe with rice as the main ingredient\n",
      "Generate a recipe with rice as the main ingredient.\n",
      "\n",
      "1. Preheat the oven to 350°F.\n",
      "\n",
      "2. In a large bowl, whisk together the rice, sugar, cinnamon, and salt.\n",
      "\n",
      "3. In a separate bowl, whisk together the egg, egg yolks, and salt.\n",
      "\n",
      "4. In a separate bowl, whisk together the flour, baking powder, and salt.\n",
      "\n",
      "5. In a separate bowl, whisk together the egg yolks, egg whites, and salt.\n",
      "\n",
      "6. In a separate bowl, whisk together the flour, baking powder, and salt.\n",
      "\n",
      "7. In a separate bowl, whisk together the egg whites, egg yolks, and salt.\n",
      "\n",
      "8. In a separate bowl, whisk together the flour, baking powder, and salt.\n",
      "\n",
      "9. In a separate bowl, whisk together the flour, baking powder, and salt.\n",
      "\n",
      "10. In a separate bowl, whisk together the flour, baking powder, and salt.\n",
      "\n",
      "11. In a separate bowl, whisk together the flour, baking powder, and salt.\n",
      "\n",
      "12. In a separate bowl, whisk together the flour, baking powder, and salt.\n",
      "\n",
      "13. In a separate bowl, whisk together the flour, baking powder, and salt.\n",
      "\n",
      "14. In a separate bowl, whisk together the flour, baking powder, and salt.\n",
      "\n",
      "15. In a separate bowl, whisk together the flour, baking powder, and salt.\n",
      "\n",
      "16. In a separate bowl, whisk together the flour, baking powder, and salt.\n",
      "\n",
      "17. In a separate bowl, whisk together the flour, baking powder, and salt.\n",
      "\n",
      "18. In a separate bowl, whisk together the flour, baking powder, and salt.\n",
      "\n",
      "19. In a separate bowl, whisk together the flour, baking powder, and salt.\n",
      "\n",
      "20. In a separate bowl, whisk together the flour, baking powder, and salt.\n",
      "\n",
      "21. In a separate bowl, whisk together the flour, baking powder, and salt.\n",
      "\n",
      "22. In a separate bowl, whisk together the flour, baking powder, and salt.\n",
      "\n",
      "23. In a separate bowl, whisk together the flour, baking powder, and salt.\n",
      "\n",
      "24. In a separate bowl, whisk together the flour, baking powder, and salt.\n",
      "\n",
      "25. In a separate bowl, whisk together the flour, baking powder, and salt.\n",
      "\n",
      "26. In a separate bowl, whisk together the flour, baking powder, and salt.\n",
      "\n",
      "27. In a separate bowl, whisk together the flour, baking powder, and salt.\n",
      "\n",
      "28. In a separate bowl, whisk together the flour, baking powder, and salt.\n",
      "\n",
      "29. In a separate bowl, whisk together the flour, baking powder, and salt.\n",
      "\n",
      "30. In a separate bowl, whisk together the flour, baking powder, and salt.\n",
      "\n",
      "31. In a separate bowl, whisk together the flour, baking powder, and salt.\n",
      "\n",
      "32. In a separate bowl, whisk together the flour, baking powder, and salt.\n",
      "\n",
      "33. In a separate bowl, whisk together the flour, baking powder, and salt.\n",
      "\n",
      "34. In a separate bowl, whisk together the flour, baking powder, and salt.\n",
      "\n",
      "35. In a separate bowl, whisk together the flour, baking powder, and salt.\n",
      "\n",
      "36. In a separate bowl, whisk together the flour, baking powder, and salt.\n",
      "\n",
      "37. In a separate bowl, whisk together the flour, baking powder, and salt.\n",
      "\n",
      "38. In a separate bowl, whisk together the flour, baking powder, and salt.\n",
      "\n",
      "39. In a separate bowl, whisk together the flour, baking powder, and salt.\n",
      "\n",
      "40. In a separate bowl, whisk together the flour, baking powder, and salt.\n",
      "\n",
      "41. In a separate bowl, whisk together the flour, baking powder, and salt.\n",
      "\n",
      "42. In a separate bowl, whisk together the flour, baking powder, and salt.\n",
      "\n",
      "43. In a separate bowl, whisk together the flour, baking powder, and salt.\n",
      "\n",
      "44. In a separate bowl, whisk together the flour, baking powder, and salt.\n",
      "\n",
      "45. In a separate bowl, whisk together the flour, baking powder, and salt.\n",
      "\n",
      "46. In a separate bowl, whisk together the flour, baking powder, and salt.\n",
      "\n",
      "47. In a separate bowl, whisk together the flour, baking powder, and salt.\n",
      "\n",
      "48. In a separate bowl, whisk together the flour, baking powder, and salt.\n",
      "\n",
      "49. In a separate bowl, whisk together the flour, baking powder, and salt.\n",
      "\n",
      "50. In a separate\n"
     ]
    },
    {
     "data": {
      "text/plain": [
       "[None]"
      ]
     },
     "execution_count": 11,
     "metadata": {},
     "output_type": "execute_result"
    }
   ],
   "source": [
    "question = get_query_for_recipe(\"rice\")\n",
    "input_ids = tokenizer(question, return_tensors=\"pt\").input_ids\n",
    "text = model.generate(input_ids=input_ids, max_length=1000)#[[1]]\n",
    "[print(tokenizer.decode(token)) for token in text]"
   ]
  },
  {
   "cell_type": "markdown",
   "metadata": {},
   "source": [
    "### Invoke LLM using LangChain\n",
    "\n",
    "Let's now use LangChain to invoke the LLMs. LangChain provides a standard interface for interacting with many different LLMs. "
   ]
  },
  {
   "cell_type": "markdown",
   "metadata": {},
   "source": [
    "#### Use LLM hosted on Azure\n",
    "\n",
    "Create a LLM using the class. "
   ]
  },
  {
   "cell_type": "code",
   "execution_count": 12,
   "metadata": {},
   "outputs": [],
   "source": [
    "# Load the LLM model\n",
    "from langchain_community.chat_models.azureml_endpoint import AzureMLChatOnlineEndpoint\n",
    "from langchain_community.chat_models.azureml_endpoint import (\n",
    "    AzureMLEndpointApiType,\n",
    "    LlamaChatContentFormatter,\n",
    ")\n",
    "\n",
    "llm_azure = AzureMLChatOnlineEndpoint(\n",
    "    endpoint_url=AZURE_LLM_URL,\n",
    "    endpoint_api_type=AzureMLEndpointApiType.serverless,\n",
    "    endpoint_api_key=AZURE_API_KEY,\n",
    "    content_formatter=LlamaChatContentFormatter(),\n",
    "    model_kwargs={\"temperature\": 1, \"max_new_tokens\": 400},\n",
    ")"
   ]
  },
  {
   "cell_type": "markdown",
   "metadata": {},
   "source": [
    "Create a prompt with query as input parameter"
   ]
  },
  {
   "cell_type": "code",
   "execution_count": 13,
   "metadata": {},
   "outputs": [
    {
     "name": "stdout",
     "output_type": "stream",
     "text": [
      "prompt: Answer the user query.\n",
      "{query}\n",
      "\n"
     ]
    }
   ],
   "source": [
    "from langchain.prompts import PromptTemplate\n",
    "\n",
    "prompt = PromptTemplate(\n",
    "    template=\"Answer the user query.\\n{query}\\n\",\n",
    "    input_variables=[\"query\"]\n",
    ")\n",
    "print(f\"prompt: {prompt.template}\")"
   ]
  },
  {
   "cell_type": "markdown",
   "metadata": {},
   "source": [
    "Create a chain with prompt and model"
   ]
  },
  {
   "cell_type": "code",
   "execution_count": 14,
   "metadata": {},
   "outputs": [],
   "source": [
    "chain = prompt | llm_azure"
   ]
  },
  {
   "cell_type": "markdown",
   "metadata": {},
   "source": [
    "Invoke the chain for a query - generate a recipe with rice as the main ingredient"
   ]
  },
  {
   "cell_type": "code",
   "execution_count": 15,
   "metadata": {},
   "outputs": [
    {
     "name": "stdout",
     "output_type": "stream",
     "text": [
      "Query: Generate a recipe with rice as the main ingredient\n",
      "Sure, here's a simple recipe for a delicious rice dish that you can try at home:\n",
      "\n",
      "Recipe: Spanish-Style Rice with Sausage and Vegetables\n",
      "\n",
      "Ingredients:\n",
      "\n",
      "* 2 cups uncooked Spanish rice\n",
      "* 1 pound sweet sausage, sliced\n",
      "* 1 onion, diced\n",
      "* 2 cloves garlic, minced\n",
      "* 1 cup chicken broth\n",
      "* 1 can diced tomatoes with green chilies\n",
      "* 1 cup frozen peas and carrots\n",
      "* 2 tablespoons smoked paprika\n",
      "* Salt and pepper to taste\n",
      "* Grated cheese for garnish (optional)\n",
      "\n",
      "Instructions:\n",
      "\n",
      "1. Rinse the Spanish rice under cold water and drain well.\n",
      "2. Heat a large saucepan over medium-high heat. Add the sausage and cook until browned, about 5 minutes. Remove the sausage from the pan with a slotted spoon and set aside.\n",
      "3. Add the diced onion to the same pan and cook until softened, about 3 minutes. Add the minced garlic and cook for another minute.\n",
      "4. Add the chicken broth, diced tomatoes with green chilies, and frozen peas and carrots to the pan. Stir to combine.\n",
      "5. Add the Spanish rice to the pan and stir to coat the rice in the liquid.\n",
      "6. Add the smoked paprika and season with salt and pepper to taste.\n",
      "7. Cover the pan with a tight-fitting lid and bring the mixture to a boil. Reduce the heat to low and simmer for 20-25 minutes or until the liquid has been absorbed and the rice is tender.\n",
      "8. Fluff the rice with a fork and garnish with grated cheese, if desired. Serve hot.\n",
      "\n",
      "Enjoy your delicious Spanish-style rice with sausage and vegetables!\n"
     ]
    }
   ],
   "source": [
    "query = get_query_for_recipe(main_ingredient=\"rice\")\n",
    "answer = chain.invoke({\"query\": query})\n",
    "print(answer.content)"
   ]
  },
  {
   "cell_type": "code",
   "execution_count": 16,
   "metadata": {},
   "outputs": [
    {
     "name": "stdout",
     "output_type": "stream",
     "text": [
      "Query: Generate a recipe with lentils as the main ingredient\n",
      "Sure, I'd be happy to help! Here's a recipe for a delicious and healthy lentil dish that you might enjoy:\n",
      "\n",
      "Lentil and Vegetable Curry\n",
      "\n",
      "Ingredients:\n",
      "\n",
      "* 1 cup brown or green lentils, rinsed and drained\n",
      "* 2 tablespoons olive oil\n",
      "* 1 onion, diced\n",
      "* 2 cloves garlic, minced\n",
      "* 2 carrots, peeled and grated\n",
      "* 2 stalks celery, diced\n",
      "* 1 red bell pepper, diced\n",
      "* 1 can diced tomatoes\n",
      "* 2 cups vegetable broth\n",
      "* 1 teaspoon curry powder\n",
      "* 1 teaspoon ground cumin\n",
      "* Salt and pepper, to taste\n",
      "* Fresh cilantro, chopped (optional)\n",
      "\n",
      "Instructions:\n",
      "\n",
      "1. In a large pot or Dutch oven, heat the oil over medium heat. Add the onion, garlic, carrots, celery, and red bell pepper. Cook until the vegetables are tender, about 5-7 minutes.\n",
      "2. Add the lentils, diced tomatoes, vegetable broth, curry powder, cumin, salt, and pepper. Stir well to combine.\n",
      "3. Bring the mixture to a boil, then reduce the heat to low and simmer for 25-30 minutes, or until the lentils are tender and the liquid has been absorbed.\n",
      "4. Taste and adjust the seasoning as needed.\n",
      "5. Serve hot, garnished with chopped cilantro if desired.\n",
      "\n",
      "This recipe makes 4-6 servings and is a great source of plant-based protein and fiber. You can also customize it to your liking by adding different spices or vegetables. I hope you enjoy it!\n"
     ]
    }
   ],
   "source": [
    "query = get_query_for_recipe(main_ingredient=\"lentils\")\n",
    "answer = chain.invoke({\"query\": query})\n",
    "print(answer.content)"
   ]
  },
  {
   "cell_type": "markdown",
   "metadata": {},
   "source": [
    "### Use LLM from Hugging Face Hub\n",
    "\n",
    "To use LLM from HuggingFace hub, all one has to do is use HuggingFaceHub class instead of the earlier AzureMLChatOnlineEndpoint to get the LLM object."
   ]
  },
  {
   "cell_type": "code",
   "execution_count": 17,
   "metadata": {},
   "outputs": [],
   "source": [
    "from langchain.llms import HuggingFaceHub\n",
    "\n",
    "HUGGINGFACEHUB_LLM = \"huggingfaceh4/zephyr-7b-alpha\"\n",
    "llm_hf = HuggingFaceHub(\n",
    "    repo_id=HUGGINGFACEHUB_LLM, \n",
    "    model_kwargs={\"temperature\": 0.5, \"max_length\": 64,\"max_new_tokens\":512}\n",
    ")"
   ]
  },
  {
   "cell_type": "markdown",
   "metadata": {},
   "source": [
    "Create a new chain with the same prompt but new LLM. Rest of the code is the same."
   ]
  },
  {
   "cell_type": "code",
   "execution_count": 18,
   "metadata": {},
   "outputs": [
    {
     "name": "stdout",
     "output_type": "stream",
     "text": [
      "Query: Generate a recipe with rice as the main ingredient\n",
      "Answer the user query.\n",
      "Generate a recipe with rice as the main ingredient\n",
      "\n",
      "Recipe: Chicken and Vegetable Fried Rice\n",
      "\n",
      "Ingredients:\n",
      "- 2 cups cooked rice (preferably leftover)\n",
      "- 1 tablespoon oil\n",
      "- 1 onion, chopped\n",
      "- 2 cloves garlic, minced\n",
      "- 1 carrot, chopped\n",
      "- 1 bell pepper, chopped\n",
      "- 1 cup frozen peas and corn\n",
      "- 1 cup cooked chicken, shredded\n",
      "- 2 eggs, beaten\n",
      "- 2 tablespoons soy sauce\n",
      "- 1 tablespoon oyster sauce\n",
      "- Salt and pepper to taste\n",
      "\n",
      "Instructions:\n",
      "1. Heat oil in a wok or large skillet over medium-high heat.\n",
      "2. Add onion and garlic, sauté for 1 minute.\n",
      "3. Add carrot and bell pepper, sauté for 2 minutes.\n",
      "4. Add frozen peas and corn, cook for 1 minute.\n",
      "5. Add cooked chicken, combine with vegetables.\n",
      "6. Push the vegetables and chicken to one side of the wok.\n",
      "7. Add beaten eggs to the empty side of the wok, scramble until cooked.\n",
      "8. Combine the cooked eggs with the vegetables and chicken.\n",
      "9. Add cooked rice, soy sauce, and oyster sauce.\n",
      "10. Stir-fry for 2-3 minutes or until the rice is heated through.\n",
      "11. Season with salt and pepper to taste.\n",
      "12. Serve hot.\n",
      "\n",
      "Note:\n",
      "- If you don't have leftover rice, you can cook a cup of rice in advance and let it cool before using it in this recipe.\n",
      "- You can substitute chicken with tofu or shrimp.\n",
      "- If you prefer a spicier version, you can add chili flakes or sliced chili peppers.\n",
      "- You can also add other vegetables like mushrooms, bok choy, or snap peas.\n"
     ]
    }
   ],
   "source": [
    "chain_hf = prompt | llm_hf\n",
    "\n",
    "query = get_query_for_recipe(main_ingredient=\"rice\")\n",
    "answer = chain_hf.invoke({\"query\": query})\n",
    "print(answer)"
   ]
  },
  {
   "cell_type": "markdown",
   "metadata": {},
   "source": [
    "We could further simplify the code as follows. The complete list of LLM integrations supported by LangChain are at https://python.langchain.com/docs/integrations/llms/. We could invoke this function with any other LLM listed in here and the code will work. "
   ]
  },
  {
   "cell_type": "code",
   "execution_count": 19,
   "metadata": {},
   "outputs": [
    {
     "name": "stdout",
     "output_type": "stream",
     "text": [
      "Query: Generate a recipe with rice as the main ingredient\n",
      "content=\"Sure, here's a simple recipe for a delicious rice dish that you can try at home:\\n\\nRice Recipe: Spanish-Style Rice with Sausage and Vegetables\\n\\nIngredients:\\n\\n* 1 cup uncooked Spanish rice\\n* 1 tablespoon olive oil\\n* 1 pound sweet Italian sausage, casings removed\\n* 1 onion, diced\\n* 2 cloves garlic, minced\\n* 1 cup frozen peas and carrots\\n* 1 cup diced tomatoes\\n* 2 cups chicken broth\\n* 1 teaspoon saffron threads\\n* 1 teaspoon smoked paprika (optional)\\n* Salt and pepper to taste\\n\\nInstructions:\\n\\n1. Heat the oil in a large saucepan over medium-high heat. Add the sausage and cook, breaking up the meat with a spoon, until browned and cooked through, about 5 minutes.\\n2. Add the onion and garlic and cook until the onion is translucent, about 3 minutes.\\n3. Add the peas and carrots, diced tomatoes, chicken broth, saffron, and smoked paprika (if using) to the saucepan. Stir to combine.\\n4. Add the rice to the saucepan and stir to coat the rice with the oil and distribute the ingredients evenly.\\n5. Bring the mixture to a boil, then reduce the heat to low, cover, and simmer for 20-25 minutes, or until the liquid has been absorbed and the rice is tender.\\n6. Fluff the rice with a fork and season with salt and pepper to taste. Serve hot.\\n\\nEnjoy your delicious Spanish-style rice with sausage and vegetables!\\n\\nI hope this recipe helps you create a tasty rice dish for your meal. If you have any questions or need further assistance, feel free to ask!\" type='assistant'\n",
      "Query: Generate a recipe with rice as the main ingredient\n",
      "Answer the user query.\n",
      "Generate a recipe with rice as the main ingredient\n",
      "\n",
      "Recipe: Chicken and Vegetable Fried Rice\n",
      "\n",
      "Ingredients:\n",
      "- 2 cups cooked rice (preferably leftover)\n",
      "- 1 tablespoon oil\n",
      "- 1 onion, chopped\n",
      "- 2 cloves garlic, minced\n",
      "- 1 carrot, chopped\n",
      "- 1 bell pepper, chopped\n",
      "- 1 cup frozen peas and corn\n",
      "- 1 cup cooked chicken, shredded\n",
      "- 2 eggs, beaten\n",
      "- 2 tablespoons soy sauce\n",
      "- 1 tablespoon oyster sauce\n",
      "- Salt and pepper to taste\n",
      "\n",
      "Instructions:\n",
      "1. Heat oil in a wok or large skillet over medium-high heat.\n",
      "2. Add onion and garlic, sauté for 1 minute.\n",
      "3. Add carrot and bell pepper, sauté for 2 minutes.\n",
      "4. Add frozen peas and corn, cook for 1 minute.\n",
      "5. Add cooked chicken, combine with vegetables.\n",
      "6. Push the vegetables and chicken to one side of the wok.\n",
      "7. Add beaten eggs to the empty side of the wok, scramble until cooked.\n",
      "8. Combine the cooked eggs with the vegetables and chicken.\n",
      "9. Add cooked rice, soy sauce, and oyster sauce.\n",
      "10. Stir-fry for 2-3 minutes or until the rice is heated through.\n",
      "11. Season with salt and pepper to taste.\n",
      "12. Serve hot.\n",
      "\n",
      "Note:\n",
      "- If you don't have leftover rice, you can cook a cup of rice in advance and let it cool before using it in this recipe.\n",
      "- You can substitute chicken with tofu or shrimp.\n",
      "- If you prefer a spicier version, you can add chili flakes or sliced chili peppers.\n",
      "- You can also add other vegetables like mushrooms, bok choy, or snap peas.\n"
     ]
    },
    {
     "data": {
      "text/plain": [
       "\"Answer the user query.\\nGenerate a recipe with rice as the main ingredient\\n\\nRecipe: Chicken and Vegetable Fried Rice\\n\\nIngredients:\\n- 2 cups cooked rice (preferably leftover)\\n- 1 tablespoon oil\\n- 1 onion, chopped\\n- 2 cloves garlic, minced\\n- 1 carrot, chopped\\n- 1 bell pepper, chopped\\n- 1 cup frozen peas and corn\\n- 1 cup cooked chicken, shredded\\n- 2 eggs, beaten\\n- 2 tablespoons soy sauce\\n- 1 tablespoon oyster sauce\\n- Salt and pepper to taste\\n\\nInstructions:\\n1. Heat oil in a wok or large skillet over medium-high heat.\\n2. Add onion and garlic, sauté for 1 minute.\\n3. Add carrot and bell pepper, sauté for 2 minutes.\\n4. Add frozen peas and corn, cook for 1 minute.\\n5. Add cooked chicken, combine with vegetables.\\n6. Push the vegetables and chicken to one side of the wok.\\n7. Add beaten eggs to the empty side of the wok, scramble until cooked.\\n8. Combine the cooked eggs with the vegetables and chicken.\\n9. Add cooked rice, soy sauce, and oyster sauce.\\n10. Stir-fry for 2-3 minutes or until the rice is heated through.\\n11. Season with salt and pepper to taste.\\n12. Serve hot.\\n\\nNote:\\n- If you don't have leftover rice, you can cook a cup of rice in advance and let it cool before using it in this recipe.\\n- You can substitute chicken with tofu or shrimp.\\n- If you prefer a spicier version, you can add chili flakes or sliced chili peppers.\\n- You can also add other vegetables like mushrooms, bok choy, or snap peas.\""
      ]
     },
     "execution_count": 19,
     "metadata": {},
     "output_type": "execute_result"
    }
   ],
   "source": [
    "def ask_llm(llm, main_ingredient):\n",
    "    chain = prompt | llm\n",
    "\n",
    "    query = get_query_for_recipe(main_ingredient=main_ingredient)\n",
    "    answer = chain.invoke({\"query\": query})\n",
    "    print(answer)\n",
    "    return answer\n",
    "\n",
    "ask_llm(llm_azure, \"rice\")\n",
    "ask_llm(llm_hf, \"rice\")"
   ]
  },
  {
   "cell_type": "markdown",
   "metadata": {},
   "source": [
    "Here we saw how the generic interface makes it easier to switch between different LLMs. This will be useful in the following scenarios:\n",
    "- We are experimenting and comparing same use case with multiple LLMs\n",
    "- We are using a LLM in the development environment and a different one in production environment\n",
    "- We started with 1 LLM but later would like to switch to another LLM"
   ]
  }
 ],
 "metadata": {
  "kernelspec": {
   "display_name": "venv",
   "language": "python",
   "name": "python3"
  },
  "language_info": {
   "codemirror_mode": {
    "name": "ipython",
    "version": 3
   },
   "file_extension": ".py",
   "mimetype": "text/x-python",
   "name": "python",
   "nbconvert_exporter": "python",
   "pygments_lexer": "ipython3",
   "version": "3.9.2"
  }
 },
 "nbformat": 4,
 "nbformat_minor": 2
}
